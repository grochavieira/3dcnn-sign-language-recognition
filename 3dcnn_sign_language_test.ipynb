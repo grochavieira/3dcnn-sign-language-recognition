{
 "cells": [
  {
   "cell_type": "markdown",
   "metadata": {},
   "source": [
    "# Importações"
   ]
  },
  {
   "cell_type": "code",
   "execution_count": 4,
   "metadata": {
    "id": "h9zjm94r8qr7"
   },
   "outputs": [],
   "source": [
    "import os\n",
    "import zipfile\n",
    "import numpy as np\n",
    "import tensorflow as tf\n",
    "import sys\n",
    "import argparse\n",
    "import cv2\n",
    "\n",
    "from tensorflow import keras\n",
    "from tensorflow.keras import layers\n",
    "from sklearn.utils import shuffle"
   ]
  },
  {
   "cell_type": "markdown",
   "metadata": {},
   "source": [
    "# Variáveis Globais"
   ]
  },
  {
   "cell_type": "code",
   "execution_count": 14,
   "metadata": {},
   "outputs": [],
   "source": [
    "train_size        = 60 # Tamanho dos dados para treinamento\n",
    "test_size         = 20 # Tamanho dos dados para teste\n",
    "max_vid_per_class = 30 # Número máximo de vídeos por classe\n",
    "batch_size        = 60 # Tamanho total dos dados de treinamento e validação\n",
    "num_of_frames     = 12 # Número de frames que o vídeo será dividido\n",
    "width             = 64 # Largura da imagem\n",
    "height            = 48 # Altura da imagem\n",
    "num_of_channels   = 1  # Número de canais da imagem (cinza, RGB, etc.)\n",
    "num_of_classes    = 2  # Número de classes que serão utilizadas"
   ]
  },
  {
   "cell_type": "markdown",
   "metadata": {},
   "source": [
    "# Classes"
   ]
  },
  {
   "cell_type": "code",
   "execution_count": 2,
   "metadata": {},
   "outputs": [],
   "source": [
    "class_names = {\n",
    "    \"Acontecer\": 0, \"Aluno\": 1, \"Amarelo\": 2, 'America': 3\n",
    "}"
   ]
  },
  {
   "cell_type": "markdown",
   "metadata": {},
   "source": [
    "# Transformação dos frames de vídeos para treinamento"
   ]
  },
  {
   "cell_type": "code",
   "execution_count": 15,
   "metadata": {
    "scrolled": true
   },
   "outputs": [
    {
     "name": "stdout",
     "output_type": "stream",
     "text": [
      "['Acontecer', 'Aluno', 'Amarelo', 'America', 'Aproveitar', 'Bala', 'Banco', 'Banheiro', 'Barulho', 'Cinco', 'Conhecer', 'Espelho', 'Esquina', 'Filho', 'Maca', 'Medo', 'Ruim', 'Sapo', 'Vacina', 'Vontade']\n",
      "\n",
      "===== Acontecer =====\n",
      "\n",
      "S=>S=>S=>S=>S=>S=>S=>S=>S=>S=>S=>S=>S=>S=>S=>S=>S=>S=>S=>S=>S=>S=>S=>S=>S=>S=>S=>S=>S=>S=>S=>S=>S=>S=>S=>S=>S=>S=>S=>S=>S=>S=>S=>S=>S=>S=>S=>S=>S=>S=>S=>S=>S=>S=>S=>S=>S=>S=>S=>S=>S=>S=>S=>S=>S=>S=>S=>S=>S=>S=>S=>S=>S=>S=>S=>S=>S=>S=>S=>S=>S=>S=>S=>S=>S=>S=>S=>S=>S=>S=>S=>S=>S=>S=>S=>S=>S=>S=>S=>S=>S=>S=>S=>S=>S=>S=>S=>S=>S=>S=>S=>S=>S=>S=>S=>S=>S=>S=>S=>S=>S=>S=>S=>S=>S=>S=>S=>S=>S=>S=>S=>S=>S=>S=>S=>S=>S=>S=>S=>S=>S=>S=>S=>S=>S=>S=>S=>S=>S=>S=>S=>S=>S=>S=>S=>S=>S=>S=>S=>S=>S=>S=>S=>S=>S=>S=>S=>S=>S=>S=>S=>S=>S=>S=>S=>S=>S=>S=>S=>S=>S=>S=>S=>S=>S=>S=>S=>S=>S=>S=>S=>S=>S=>S=>S=>S=>S=>S=>S=>S=>S=>S=>S=>S=>S=>S=>S=>S=>S=>S=>S=>S=>S=>S=>S=>S=>S=>S=>S=>S=>S=>S=>S=>S=>S=>S=>S=>S=>S=>S=>S=>S=>S=>S=>S=>S=>S=>S=>S=>S=>S=>S=>S=>S=>S=>S=>S=>S=>S=>S=>S=>S=>S=>S=>S=>S=>S=>S=>S=>S=>S=>S=>S=>S=>S=>S=>S=>S=>S=>S=>S=>S=>S=>S=>S=>S=>S=>S=>S=>S=>S=>S=>S=>S=>S=>S=>S=>S=>S=>S=>S=>S=>S=>S=>S=>S=>S=>S=>S=>S=>S=>S=>S=>S=>S=>S=>S=>S=>S=>S=>S=>S=>S=>S=>S=>S=>S=>S=>S=>S=>S=>S=>S=>S=>S=>S=>S=>S=>S=>S=>S=>S=>S=>S=>S=>S=>S=>S=>S=>S=>S=>S=>S=>S=>S=>S=>S=>S=>S=>S=>S=>S=>S=>S=>S=>S=>S=>S=>S=>S=>\n",
      "\n",
      "===== FIM DA CLASSE =====\n",
      "\n",
      "\n",
      "===== Aluno =====\n",
      "\n",
      "S=>S=>S=>S=>S=>S=>S=>S=>S=>S=>S=>S=>S=>S=>S=>S=>S=>S=>S=>S=>S=>S=>S=>S=>S=>S=>S=>S=>S=>S=>S=>S=>S=>S=>S=>S=>S=>S=>S=>S=>S=>S=>S=>S=>S=>S=>S=>S=>S=>S=>S=>S=>S=>S=>S=>S=>S=>S=>S=>S=>S=>S=>S=>S=>S=>S=>S=>S=>S=>S=>S=>S=>S=>S=>S=>S=>S=>S=>S=>S=>S=>S=>S=>S=>S=>S=>S=>S=>S=>S=>S=>S=>S=>S=>S=>S=>S=>S=>S=>S=>S=>S=>S=>S=>S=>S=>S=>S=>S=>S=>S=>S=>S=>S=>S=>S=>S=>S=>S=>S=>S=>S=>S=>S=>S=>S=>S=>S=>S=>S=>S=>S=>S=>S=>S=>S=>S=>S=>S=>S=>S=>S=>S=>S=>S=>S=>S=>S=>S=>S=>S=>S=>S=>S=>S=>S=>S=>S=>S=>S=>S=>S=>S=>S=>S=>S=>S=>S=>S=>S=>S=>S=>S=>S=>S=>S=>S=>S=>S=>S=>S=>S=>S=>S=>S=>S=>S=>S=>S=>S=>S=>S=>S=>S=>S=>S=>S=>S=>S=>S=>S=>S=>S=>S=>S=>S=>S=>S=>S=>S=>S=>S=>S=>S=>S=>S=>S=>S=>S=>S=>S=>S=>S=>S=>S=>S=>S=>S=>S=>S=>S=>S=>S=>S=>S=>S=>S=>S=>S=>S=>S=>S=>S=>S=>S=>S=>S=>S=>S=>S=>S=>S=>S=>S=>S=>S=>S=>S=>S=>S=>S=>S=>S=>S=>S=>S=>S=>S=>S=>S=>S=>S=>S=>S=>S=>S=>S=>S=>S=>S=>S=>S=>S=>S=>S=>S=>S=>S=>S=>S=>S=>S=>S=>S=>S=>S=>S=>S=>S=>S=>S=>S=>S=>S=>S=>S=>S=>S=>S=>S=>S=>S=>S=>S=>S=>S=>S=>S=>S=>S=>S=>S=>S=>S=>S=>S=>S=>S=>S=>S=>S=>S=>S=>S=>S=>S=>S=>S=>S=>S=>S=>S=>S=>S=>S=>S=>S=>S=>S=>S=>S=>S=>S=>S=>S=>S=>S=>S=>S=>S=>\n",
      "\n",
      "===== FIM DA CLASSE =====\n",
      "\n",
      "\n",
      "\n",
      "===== FIM =====\n",
      "\n",
      "\n"
     ]
    }
   ],
   "source": [
    "video_classes = './LIBRAS-Dataset/Treino/' # caminho da pasta com os arquivos\n",
    "X_data_train = [] # armazena os frames\n",
    "Y_data_train = [] # armazena as labels\n",
    "list_of_classes = os.listdir(video_classes) # pega o nome de todos os arquivos dentro da pasta\n",
    "print(list_of_classes)\n",
    "\n",
    "class_counter = 0\n",
    "for k in list_of_classes:\n",
    "    if (class_counter >= num_of_classes):\n",
    "        break\n",
    "    class_counter = class_counter + 1\n",
    "    video_folder = str(video_classes + k + '/')\n",
    "    list_of_videos = os.listdir(video_folder)\n",
    "    contador = 0\n",
    "    print('\\n===== ' + k + ' =====\\n')\n",
    "    # pega o nome de cada arquivo de vídeo e passa para transformar em frames\n",
    "    for i in list_of_videos:\n",
    "        if contador >= max_vid_per_class:\n",
    "            print('\\n\\n===== FIM DA CLASSE =====\\n')\n",
    "            break\n",
    "        contador = contador + 1\n",
    "        # caminho do vídeo\n",
    "        vid = str(video_folder + i)\n",
    "        # lê o vídeo\n",
    "        cap = cv2.VideoCapture(vid)\n",
    "        frames = [] # armazenar os frames\n",
    "        count = 0 # contador para pegar cada frame\n",
    "        for j in range(num_of_frames): # aqui pegamos n frames de acordo com num_of_frames\n",
    "            # 1000 = 1 segundo, 500 = meio segundo...\n",
    "            cap.set(cv2.CAP_PROP_POS_MSEC,(count*250)) # seta o momento do vídeo para pegar o frame\n",
    "            ret, frame = cap.read() # pega de fato o frame, e se deu sucesso ou não\n",
    "            if ret == True: # se deu sucesso...\n",
    "                print('S=>', end=\"\")\n",
    "                frame = cv2.cvtColor(frame, cv2.COLOR_BGR2GRAY) # converte o frame para cinza\n",
    "                frame = cv2.resize(frame,(width,height),interpolation=cv2.INTER_AREA) # redimensiona o frame\n",
    "                frames.append(frame) # adiciona o frame para o vetor de frames\n",
    "            else:\n",
    "                print('*E*=>', end=\"\")\n",
    "            count = count + 1\n",
    "        X_data_train.append(frames) # adiciona todos os frames de um vídeo\n",
    "        Y_data_train.append(class_names[k]) # adiciona a label do conjunto de frames\n",
    "X_data_train = np.array(X_data_train) # transforma o vetor de frames em array numpy\n",
    "Y_data_train = np.array(Y_data_train) # transforma o vetor de label dos frames em array numpy\n",
    "print('\\n\\n===== FIM =====\\n\\n')"
   ]
  },
  {
   "cell_type": "markdown",
   "metadata": {},
   "source": [
    "# Transformação dos frames de vídeos para teste"
   ]
  },
  {
   "cell_type": "code",
   "execution_count": 16,
   "metadata": {},
   "outputs": [
    {
     "name": "stdout",
     "output_type": "stream",
     "text": [
      "['Acontecer', 'Aluno', 'Amarelo', 'America', 'Aproveitar', 'Bala', 'Banco', 'Banheiro', 'Barulho', 'Cinco', 'Conhecer', 'Espelho', 'Esquina', 'Filho', 'Maca', 'Medo', 'Ruim', 'Sapo', 'Vacina', 'Vontade']\n",
      "\n",
      "===== Acontecer =====\n",
      "\n",
      "S=>S=>S=>S=>S=>S=>S=>S=>S=>S=>S=>S=>S=>S=>S=>S=>S=>S=>S=>S=>S=>S=>S=>S=>S=>S=>S=>S=>S=>S=>S=>S=>S=>S=>S=>S=>S=>S=>S=>S=>S=>S=>S=>S=>S=>S=>S=>S=>S=>S=>S=>S=>S=>S=>S=>S=>S=>S=>S=>S=>S=>S=>S=>S=>S=>S=>S=>S=>S=>S=>S=>S=>S=>S=>S=>S=>S=>S=>S=>S=>S=>S=>S=>S=>S=>S=>S=>S=>S=>S=>S=>S=>S=>S=>S=>S=>S=>S=>S=>S=>S=>S=>S=>S=>S=>S=>S=>S=>S=>S=>S=>S=>S=>S=>S=>S=>S=>S=>S=>S=>\n",
      "===== Aluno =====\n",
      "\n",
      "S=>S=>S=>S=>S=>S=>S=>S=>S=>S=>S=>S=>S=>S=>S=>S=>S=>S=>S=>S=>S=>S=>S=>S=>S=>S=>S=>S=>S=>S=>S=>S=>S=>S=>S=>S=>S=>S=>S=>S=>S=>S=>S=>S=>S=>S=>S=>S=>S=>S=>S=>S=>S=>S=>S=>S=>S=>S=>S=>S=>S=>S=>S=>S=>S=>S=>S=>S=>S=>S=>S=>S=>S=>S=>S=>S=>S=>S=>S=>S=>S=>S=>S=>S=>S=>S=>S=>S=>S=>S=>S=>S=>S=>S=>S=>S=>S=>S=>S=>S=>S=>S=>S=>S=>S=>S=>S=>S=>S=>S=>S=>S=>S=>S=>S=>S=>S=>S=>S=>S=>\n",
      "\n",
      "===== FIM =====\n",
      "\n",
      "\n"
     ]
    }
   ],
   "source": [
    "video_classes = './LIBRAS-Dataset/Teste/' # caminho da pasta com os arquivos\n",
    "X_data_test = [] # armazena os frames\n",
    "Y_data_test = [] # armazena as labels\n",
    "list_of_classes = os.listdir(video_classes) # pega o nome de todos os arquivos dentro da pasta\n",
    "print(list_of_classes)\n",
    "\n",
    "class_counter = 0\n",
    "for k in list_of_classes:\n",
    "    if (class_counter >= num_of_classes):\n",
    "        break\n",
    "    class_counter = class_counter + 1\n",
    "    video_folder = str(video_classes + k + '/')\n",
    "    list_of_videos = os.listdir(video_folder)\n",
    "    contador = 0\n",
    "    print('\\n===== ' + k + ' =====\\n')\n",
    "    # pega o nome de cada arquivo de vídeo e passa para transformar em frames\n",
    "    for i in list_of_videos:\n",
    "        if contador >= max_vid_per_class:\n",
    "            print('\\n\\n===== FIM DA CLASSE =====\\n')\n",
    "            break\n",
    "        contador = contador + 1\n",
    "        # caminho do vídeo\n",
    "        vid = str(video_folder + i)\n",
    "        # lê o vídeo\n",
    "        cap = cv2.VideoCapture(vid)\n",
    "        frames = [] # armazenar os frames\n",
    "        count = 0 # contador para pegar cada frame\n",
    "        for j in range(num_of_frames): # aqui pegamos n frames de acordo com num_of_frames\n",
    "            # 1000 = 1 segundo, 500 = meio segundo...\n",
    "            cap.set(cv2.CAP_PROP_POS_MSEC,(count*250)) # seta o momento do vídeo para pegar o frame\n",
    "            ret, frame = cap.read() # pega de fato o frame, e se deu sucesso ou não\n",
    "            if ret == True: # se deu sucesso...\n",
    "                print('S=>', end=\"\")\n",
    "                frame = cv2.cvtColor(frame, cv2.COLOR_BGR2GRAY) # converte o frame para cinza\n",
    "                frame = cv2.resize(frame,(width,height),interpolation=cv2.INTER_AREA) # redimensiona o frame\n",
    "                frames.append(frame) # adiciona o frame para o vetor de frames\n",
    "            else:\n",
    "                print('*E*=>', end=\"\")\n",
    "            count = count + 1\n",
    "        X_data_test.append(frames) # adiciona todos os frames de um vídeo\n",
    "        Y_data_test.append(class_names[k]) # adiciona a label do conjunto de frames\n",
    "X_data_test = np.array(X_data_test) # transforma o vetor de frames em array numpy\n",
    "Y_data_test = np.array(Y_data_test) # transforma o vetor de label dos frames em array numpy\n",
    "print('\\n\\n===== FIM =====\\n\\n')"
   ]
  },
  {
   "cell_type": "markdown",
   "metadata": {},
   "source": [
    "# Formato dos dados"
   ]
  },
  {
   "cell_type": "code",
   "execution_count": 17,
   "metadata": {
    "scrolled": true
   },
   "outputs": [
    {
     "name": "stdout",
     "output_type": "stream",
     "text": [
      "(60, 12, 48, 64)\n",
      "(60,)\n",
      "[0 0 0 0 0 0 0 0 0 0 0 0 0 0 0 0 0 0 0 0 0 0 0 0 0 0 0 0 0 0 1 1 1 1 1 1 1\n",
      " 1 1 1 1 1 1 1 1 1 1 1 1 1 1 1 1 1 1 1 1 1 1 1]\n",
      "(20, 12, 48, 64)\n",
      "(20,)\n",
      "[0 0 0 0 0 0 0 0 0 0 1 1 1 1 1 1 1 1 1 1]\n"
     ]
    }
   ],
   "source": [
    "print(X_data_train.shape)\n",
    "print(Y_data_train.shape)\n",
    "print(Y_data_train)\n",
    "\n",
    "print(X_data_test.shape)\n",
    "print(Y_data_test.shape)\n",
    "print(Y_data_test)"
   ]
  },
  {
   "cell_type": "markdown",
   "metadata": {},
   "source": [
    "# Embaralhamento dos dados"
   ]
  },
  {
   "cell_type": "code",
   "execution_count": 8,
   "metadata": {},
   "outputs": [
    {
     "name": "stdout",
     "output_type": "stream",
     "text": [
      "[0 0 0 0 1 1 1 1 1 0 1 1 1 0 1 1 1 1 0 1 1 0 1 0 1 1 0 0 1 1 0 0 0 1 0 0 1\n",
      " 0 0 0 0 0 1 1 0 1 1 0 0 0]\n",
      "[1 1 1 1 1 0 0 1 0 1 0 0 0 1 0 1 0 0 1 0]\n"
     ]
    }
   ],
   "source": [
    "X_data_train, Y_data_train = shuffle(X_data_train, Y_data_train)\n",
    "print(Y_data_train)\n",
    "\n",
    "X_data_test, Y_data_test = shuffle(X_data_test, Y_data_test)\n",
    "print(Y_data_test)"
   ]
  },
  {
   "cell_type": "markdown",
   "metadata": {},
   "source": [
    "# Exemplo de frames de um vídeo"
   ]
  },
  {
   "cell_type": "code",
   "execution_count": 37,
   "metadata": {},
   "outputs": [
    {
     "data": {
      "text/plain": [
       "<matplotlib.image.AxesImage at 0x1c351d61a60>"
      ]
     },
     "execution_count": 37,
     "metadata": {},
     "output_type": "execute_result"
    },
    {
     "data": {
      "image/png": "[encoded data removed]",
      "text/plain": [
       "<Figure size 432x288 with 1 Axes>"
      ]
     },
     "metadata": {
      "needs_background": "light"
     },
     "output_type": "display_data"
    },
    {
     "data": {
      "image/png": "[encoded data removed]",
      "text/plain": [
       "<Figure size 432x288 with 6 Axes>"
      ]
     },
     "metadata": {
      "needs_background": "light"
     },
     "output_type": "display_data"
    }
   ],
   "source": [
    "from PIL import Image\n",
    "import matplotlib.pyplot as plt\n",
    "\n",
    "# converte a imagem de numpy para Image\n",
    "image0 = Image.fromarray(X_data_train[0][0])\n",
    "image1 = Image.fromarray(X_data_train[0][1])\n",
    "image2 = Image.fromarray(X_data_train[0][2])\n",
    "image3 = Image.fromarray(X_data_train[0][3])\n",
    "image4 = Image.fromarray(X_data_train[0][4])\n",
    "image5 = Image.fromarray(X_data_train[0][5])\n",
    "\n",
    "# plota as imagens\n",
    "plt.imshow(image0, 'gray')\n",
    "f, axarr = plt.subplots(1, 6)\n",
    "axarr[0].imshow(image0, 'gray')\n",
    "axarr[1].imshow(image1, 'gray')\n",
    "axarr[2].imshow(image2, 'gray')\n",
    "axarr[3].imshow(image3, 'gray')\n",
    "axarr[4].imshow(image4, 'gray')\n",
    "axarr[5].imshow(image5, 'gray')"
   ]
  },
  {
   "cell_type": "markdown",
   "metadata": {},
   "source": [
    "# Remodelar o conjunto de dados\n",
    "Exemplo:\n",
    "So, if you have 10000 samples in total, using sets of 10 frames per input, with 30 x 30 dimensions and 1 channel of color, you may reshape your X_data like:\n",
    "\n",
    "X_data = X_data.reshape(10000, 10, 30, 30, 1)"
   ]
  },
  {
   "cell_type": "code",
   "execution_count": 10,
   "metadata": {
    "scrolled": false
   },
   "outputs": [
    {
     "name": "stdout",
     "output_type": "stream",
     "text": [
      "(32, 12, 64, 48, 1)\n",
      "(20, 12, 64, 48, 1)\n"
     ]
    }
   ],
   "source": [
    "# transforma os dados dos frames armazenados no formato ideal para ser usado no treinamento\n",
    "X_data_train = X_data_train.reshape(train_size, num_of_frames, width, height, num_of_channels)\n",
    "print(np.shape(X_data_train))\n",
    "\n",
    "X_data_test = X_data_test.reshape(test_size, num_of_frames, width, height, num_of_channels)\n",
    "print(np.shape(X_data_test))"
   ]
  },
  {
   "cell_type": "markdown",
   "metadata": {
    "id": "oKBya7k0fP1C"
   },
   "source": [
    "# Definição da Rede Neural Convolucional 3D "
   ]
  },
  {
   "cell_type": "code",
   "execution_count": 18,
   "metadata": {},
   "outputs": [
    {
     "name": "stdout",
     "output_type": "stream",
     "text": [
      "Model: \"sequential_2\"\n",
      "_________________________________________________________________\n",
      "Layer (type)                 Output Shape              Param #   \n",
      "=================================================================\n",
      "conv3d_6 (Conv3D)            (None, 8, 58, 42, 50)     12300     \n",
      "_________________________________________________________________\n",
      "batch_normalization_6 (Batch (None, 8, 58, 42, 50)     200       \n",
      "_________________________________________________________________\n",
      "max_pooling3d_4 (MaxPooling3 (None, 8, 29, 21, 50)     0         \n",
      "_________________________________________________________________\n",
      "conv3d_7 (Conv3D)            (None, 4, 23, 15, 50)     612550    \n",
      "_________________________________________________________________\n",
      "batch_normalization_7 (Batch (None, 4, 23, 15, 50)     200       \n",
      "_________________________________________________________________\n",
      "max_pooling3d_5 (MaxPooling3 (None, 4, 12, 8, 50)      0         \n",
      "_________________________________________________________________\n",
      "conv3d_8 (Conv3D)            (None, 2, 8, 4, 10)       37510     \n",
      "_________________________________________________________________\n",
      "batch_normalization_8 (Batch (None, 2, 8, 4, 10)       40        \n",
      "_________________________________________________________________\n",
      "flatten_2 (Flatten)          (None, 640)               0         \n",
      "_________________________________________________________________\n",
      "dense_3 (Dense)              (None, 2)                 1282      \n",
      "=================================================================\n",
      "Total params: 664,082\n",
      "Trainable params: 663,862\n",
      "Non-trainable params: 220\n",
      "_________________________________________________________________\n"
     ]
    }
   ],
   "source": [
    " def get_model():\n",
    "    \n",
    "    # Camadas do modelo\n",
    "    \n",
    "    model = keras.Sequential()\n",
    "\n",
    "    model.add(keras.layers.Conv3D(50, (5,7,7), activation='relu', input_shape=(num_of_frames, width, height, num_of_channels)))\n",
    "    model.add(keras.layers.BatchNormalization())\n",
    "    model.add(keras.layers.MaxPooling3D((1, 2, 2), padding='same'))\n",
    "\n",
    "    model.add(keras.layers.Conv3D(50, (5,7,7), activation='relu'))\n",
    "    model.add(keras.layers.BatchNormalization())\n",
    "    model.add(keras.layers.MaxPooling3D((1, 2, 2), padding='same'))\n",
    "    \n",
    "    model.add(keras.layers.Conv3D(10, (3,5,5), activation='relu'))\n",
    "    model.add(keras.layers.BatchNormalization())\n",
    "    \n",
    "    model.add(keras.layers.Flatten())\n",
    "#     model.add(keras.layers.Dense(200, activation='sigmoid'))\n",
    "#     model.add(keras.layers.Dropout(0.5))\n",
    "    model.add(keras.layers.Dense(num_of_classes, activation='sigmoid', use_bias=True))\n",
    "    \n",
    "    # Compilação do modelo\n",
    "    \n",
    "    initial_learning_rate = 0.0001\n",
    "    lr_schedule = keras.optimizers.schedules.ExponentialDecay(\n",
    "        initial_learning_rate, decay_steps=100000, decay_rate=0.96, staircase=True\n",
    "    )\n",
    "    \n",
    "    model.compile(\n",
    "        loss=keras.losses.SparseCategoricalCrossentropy(),\n",
    "        optimizer=keras.optimizers.Adam(learning_rate=lr_schedule),\n",
    "        metrics=[\"acc\"],\n",
    "    )\n",
    "    \n",
    "#     model.compile(loss='categorical_crossentropy', optimizer='Adam', metrics=['accuracy'])\n",
    "\n",
    "    return model\n",
    "\n",
    "# Constrói o modelo.\n",
    "model = get_model()\n",
    "\n",
    "# Dados do modelo\n",
    "model.summary()"
   ]
  },
  {
   "cell_type": "markdown",
   "metadata": {
    "id": "A1cqOPuch3qC"
   },
   "source": [
    "# Treinamento do Modelo"
   ]
  },
  {
   "cell_type": "code",
   "execution_count": null,
   "metadata": {
    "colab": {
     "base_uri": "https://localhost:8080/"
    },
    "id": "lo5Qoi4SJ-0N",
    "outputId": "6d2f5ac0-de3d-42ea-e579-2c84d9af5029",
    "scrolled": false
   },
   "outputs": [],
   "source": [
    "# epochs = 100\n",
    "# model.fit(X_data_train, Y_data_train, epochs=epochs, batch_size=train_size, shuffle=True)"
   ]
  },
  {
   "cell_type": "markdown",
   "metadata": {},
   "source": [
    "# Treinamento do modelo até determinada acurácia"
   ]
  },
  {
   "cell_type": "code",
   "execution_count": null,
   "metadata": {},
   "outputs": [],
   "source": [
    "epochs = 100\n",
    "accuracy = 0\n",
    "while accuracy < 0.89:\n",
    "    model.fit(X_data_train, Y_data_train, epochs=epochs, batch_size=train_size, shuffle=True)\n",
    "    result = model.evaluate(X_data_test, Y_data_test)\n",
    "    if (result[1] > accuracy):\n",
    "        model.save('./model/')\n",
    "        accuracy = result[1]\n",
    "    print(result[1])"
   ]
  },
  {
   "cell_type": "markdown",
   "metadata": {},
   "source": [
    "# Treinamento do modelo até determinada acurácia, com dados de entrada aleatórios"
   ]
  },
  {
   "cell_type": "code",
   "execution_count": null,
   "metadata": {},
   "outputs": [
    {
     "name": "stdout",
     "output_type": "stream",
     "text": [
      "Epoch 1/100\n"
     ]
    }
   ],
   "source": [
    "epochs = 100\n",
    "accuracy = 0\n",
    "while accuracy < 0.7:\n",
    "    # Embaralha os dados\n",
    "    X_data_train, Y_data_train = shuffle(X_data_train, Y_data_train)\n",
    "    X_data_test, Y_data_test   = shuffle(X_data_test, Y_data_test)\n",
    "\n",
    "    # transforma os dados dos frames armazenados no formato ideal para ser usado no treinamento\n",
    "    X_data_train = X_data_train.reshape(train_size, num_of_frames, width, height, num_of_channels)\n",
    "    X_data_test  = X_data_test.reshape(test_size, num_of_frames, width, height, num_of_channels)\n",
    "    \n",
    "    model.fit(X_data_train, Y_data_train, epochs=epochs, batch_size=train_size, shuffle=True)\n",
    "    result = model.evaluate(X_data_test, Y_data_test)\n",
    "    if (result[1] > accuracy):\n",
    "        model.save('./model/')\n",
    "        accuracy = result[1]\n",
    "    print(result[1])"
   ]
  },
  {
   "cell_type": "markdown",
   "metadata": {},
   "source": [
    "# Validação do modelo"
   ]
  },
  {
   "cell_type": "code",
   "execution_count": 13,
   "metadata": {
    "scrolled": true
   },
   "outputs": [
    {
     "name": "stdout",
     "output_type": "stream",
     "text": [
      "1/1 [==============================] - 0s 198ms/step - loss: 1.3640 - acc: 0.5500\n"
     ]
    },
    {
     "data": {
      "text/plain": [
       "[1.363975167274475, 0.550000011920929]"
      ]
     },
     "execution_count": 13,
     "metadata": {},
     "output_type": "execute_result"
    }
   ],
   "source": [
    "model.evaluate(X_data_test, Y_data_test)"
   ]
  },
  {
   "cell_type": "markdown",
   "metadata": {},
   "source": [
    "# Predição do modelo"
   ]
  },
  {
   "cell_type": "code",
   "execution_count": 15,
   "metadata": {},
   "outputs": [
    {
     "name": "stdout",
     "output_type": "stream",
     "text": [
      "[1 1 0 2 1 0 1 3 0 2 3 1 3 3 3 0 2 0 2 2]\n",
      "58.63 ==> Acontecer\n",
      "79.22 ==> Aluno\n",
      "46.48 ==> Amarelo\n",
      "26.10 ==> America\n"
     ]
    }
   ],
   "source": [
    "prediction = model.predict(np.expand_dims(X_data_test[3], axis=0))[0]\n",
    "print(Y_data_test)\n",
    "for predict, name in zip(prediction, class_names):\n",
    "    print(\n",
    "        \"%.2f ==> %s\"\n",
    "        % ((100 * predict), name)\n",
    "    )"
   ]
  },
  {
   "cell_type": "markdown",
   "metadata": {},
   "source": [
    "# Salvar o modelo"
   ]
  },
  {
   "cell_type": "code",
   "execution_count": null,
   "metadata": {},
   "outputs": [],
   "source": [
    "model.save('./model/')"
   ]
  },
  {
   "cell_type": "markdown",
   "metadata": {},
   "source": [
    "# Carregar o modelo"
   ]
  },
  {
   "cell_type": "code",
   "execution_count": null,
   "metadata": {},
   "outputs": [],
   "source": [
    "newModel = keras.models.load_model('./model/')"
   ]
  }
 ],
 "metadata": {
  "accelerator": "GPU",
  "colab": {
   "collapsed_sections": [],
   "name": "3dcnn-sign-language-test.ipynb",
   "provenance": []
  },
  "kernelspec": {
   "display_name": "Python 3 (ipykernel)",
   "language": "python",
   "name": "python3"
  },
  "language_info": {
   "codemirror_mode": {
    "name": "ipython",
    "version": 3
   },
   "file_extension": ".py",
   "mimetype": "text/x-python",
   "name": "python",
   "nbconvert_exporter": "python",
   "pygments_lexer": "ipython3",
   "version": "3.9.6"
  }
 },
 "nbformat": 4,
 "nbformat_minor": 1
}
